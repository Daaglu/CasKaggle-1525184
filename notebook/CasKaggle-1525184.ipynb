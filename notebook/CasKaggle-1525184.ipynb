{
 "cells": [
  {
   "cell_type": "code",
   "execution_count": 1,
   "metadata": {},
   "outputs": [],
   "source": [
    "#Importar les llibreries que podem fer servir\n",
    "#Com tinc més d'un dataset creem una funció per carregar csvs"
   ]
  },
  {
   "cell_type": "code",
   "execution_count": 2,
   "metadata": {},
   "outputs": [],
   "source": [
    "import warnings\n",
    "warnings.simplefilter(action='ignore', category=FutureWarning)\n",
    "import pandas as pd\n",
    "from matplotlib import pyplot as plt\n",
    "from numpy import mean\n",
    "from numpy import std\n",
    "from sklearn.linear_model import LogisticRegression\n",
    "from sklearn.metrics import accuracy_score, precision_score, recall_score, confusion_matrix, precision_recall_curve, \\\n",
    "    average_precision_score, roc_curve, auc\n",
    "from sklearn.model_selection import train_test_split, cross_val_score\n",
    "from sklearn.neighbors import KNeighborsClassifier\n",
    "from sklearn.tree import DecisionTreeClassifier, plot_tree\n",
    "import time\n",
    "\n",
    "\n",
    "def load_dataset(path):\n",
    "    dataset = pd.read_csv(path, header=0, delimiter=',')\n",
    "    return dataset"
   ]
  },
  {
   "cell_type": "code",
   "execution_count": 3,
   "metadata": {},
   "outputs": [],
   "source": [
    "#Carrego els dataset i poso els mateixs noms a les columnes"
   ]
  },
  {
   "cell_type": "code",
   "execution_count": 4,
   "metadata": {},
   "outputs": [],
   "source": [
    "dataset_rock = load_dataset('../Data/0.csv')\n",
    "dataset_rock.columns = [\n",
    "\"reading 1 sensor 1\", \"reading 1 sensor 2\",\"reading 1 sensor 3\",\"reading 1 sensor 4\",\"reading 1 sensor 5\",\"reading 1 sensor 6\",\"reading 1 sensor 7\", \"reading 1 sensor 8\",\n",
    "\"reading 2 sensor 1\", \"reading 2 sensor 2\",\"reading 2 sensor 3\",\"reading 2 sensor 4\",\"reading 2 sensor 5\",\"reading 2 sensor 6\",\"reading 2 sensor 7\", \"reading 2 sensor 8\",\n",
    "\"reading 3 sensor 1\", \"reading 3 sensor 2\",\"reading 3 sensor 3\",\"reading 3 sensor 4\",\"reading 3 sensor 5\",\"reading 3 sensor 6\",\"reading 3 sensor 7\", \"reading 3 sensor 8\",\n",
    "\"reading 4 sensor 1\", \"reading 4 sensor 2\",\"reading 4 sensor 3\",\"reading 4 sensor 4\",\"reading 4 sensor 5\",\"reading 4 sensor 6\",\"reading 4 sensor 7\", \"reading 4 sensor 8\",\n",
    "\"reading 5 sensor 1\", \"reading 5 sensor 2\",\"reading 5 sensor 3\",\"reading 5 sensor 4\",\"reading 5 sensor 5\",\"reading 5 sensor 6\",\"reading 5 sensor 7\", \"reading 5 sensor 8\",\n",
    "\"reading 6 sensor 1\", \"reading 6 sensor 2\",\"reading 6 sensor 3\",\"reading 6 sensor 4\",\"reading 6 sensor 5\",\"reading 6 sensor 6\",\"reading 6 sensor 7\", \"reading 6 sensor 8\",\n",
    "\"reading 7 sensor 1\", \"reading 7 sensor 2\",\"reading 7 sensor 3\",\"reading 7 sensor 4\",\"reading 7 sensor 5\",\"reading 7 sensor 6\",\"reading 7 sensor 7\", \"reading 7 sensor 8\",\n",
    "\"reading 8 sensor 1\", \"reading 8 sensor 2\",\"reading 8 sensor 3\",\"reading 8 sensor 4\",\"reading 8 sensor 5\",\"reading 8 sensor 6\",\"reading 8 sensor 7\", \"reading 8 sensor 8\",\n",
    "\"result\"]\n",
    "dataset_scissors = load_dataset('../Data/1.csv')\n",
    "dataset_scissors.columns = [\n",
    "\"reading 1 sensor 1\", \"reading 1 sensor 2\",\"reading 1 sensor 3\",\"reading 1 sensor 4\",\"reading 1 sensor 5\",\"reading 1 sensor 6\",\"reading 1 sensor 7\", \"reading 1 sensor 8\",\n",
    "\"reading 2 sensor 1\", \"reading 2 sensor 2\",\"reading 2 sensor 3\",\"reading 2 sensor 4\",\"reading 2 sensor 5\",\"reading 2 sensor 6\",\"reading 2 sensor 7\", \"reading 2 sensor 8\",\n",
    "\"reading 3 sensor 1\", \"reading 3 sensor 2\",\"reading 3 sensor 3\",\"reading 3 sensor 4\",\"reading 3 sensor 5\",\"reading 3 sensor 6\",\"reading 3 sensor 7\", \"reading 3 sensor 8\",\n",
    "\"reading 4 sensor 1\", \"reading 4 sensor 2\",\"reading 4 sensor 3\",\"reading 4 sensor 4\",\"reading 4 sensor 5\",\"reading 4 sensor 6\",\"reading 4 sensor 7\", \"reading 4 sensor 8\",\n",
    "\"reading 5 sensor 1\", \"reading 5 sensor 2\",\"reading 5 sensor 3\",\"reading 5 sensor 4\",\"reading 5 sensor 5\",\"reading 5 sensor 6\",\"reading 5 sensor 7\", \"reading 5 sensor 8\",\n",
    "\"reading 6 sensor 1\", \"reading 6 sensor 2\",\"reading 6 sensor 3\",\"reading 6 sensor 4\",\"reading 6 sensor 5\",\"reading 6 sensor 6\",\"reading 6 sensor 7\", \"reading 6 sensor 8\",\n",
    "\"reading 7 sensor 1\", \"reading 7 sensor 2\",\"reading 7 sensor 3\",\"reading 7 sensor 4\",\"reading 7 sensor 5\",\"reading 7 sensor 6\",\"reading 7 sensor 7\", \"reading 7 sensor 8\",\n",
    "\"reading 8 sensor 1\", \"reading 8 sensor 2\",\"reading 8 sensor 3\",\"reading 8 sensor 4\",\"reading 8 sensor 5\",\"reading 8 sensor 6\",\"reading 8 sensor 7\", \"reading 8 sensor 8\",\n",
    "\"result\"]\n",
    "dataset_paper = load_dataset('../Data/2.csv')\n",
    "dataset_paper.columns = [\n",
    "\"reading 1 sensor 1\", \"reading 1 sensor 2\",\"reading 1 sensor 3\",\"reading 1 sensor 4\",\"reading 1 sensor 5\",\"reading 1 sensor 6\",\"reading 1 sensor 7\", \"reading 1 sensor 8\",\n",
    "\"reading 2 sensor 1\", \"reading 2 sensor 2\",\"reading 2 sensor 3\",\"reading 2 sensor 4\",\"reading 2 sensor 5\",\"reading 2 sensor 6\",\"reading 2 sensor 7\", \"reading 2 sensor 8\",\n",
    "\"reading 3 sensor 1\", \"reading 3 sensor 2\",\"reading 3 sensor 3\",\"reading 3 sensor 4\",\"reading 3 sensor 5\",\"reading 3 sensor 6\",\"reading 3 sensor 7\", \"reading 3 sensor 8\",\n",
    "\"reading 4 sensor 1\", \"reading 4 sensor 2\",\"reading 4 sensor 3\",\"reading 4 sensor 4\",\"reading 4 sensor 5\",\"reading 4 sensor 6\",\"reading 4 sensor 7\", \"reading 4 sensor 8\",\n",
    "\"reading 5 sensor 1\", \"reading 5 sensor 2\",\"reading 5 sensor 3\",\"reading 5 sensor 4\",\"reading 5 sensor 5\",\"reading 5 sensor 6\",\"reading 5 sensor 7\", \"reading 5 sensor 8\",\n",
    "\"reading 6 sensor 1\", \"reading 6 sensor 2\",\"reading 6 sensor 3\",\"reading 6 sensor 4\",\"reading 6 sensor 5\",\"reading 6 sensor 6\",\"reading 6 sensor 7\", \"reading 6 sensor 8\",\n",
    "\"reading 7 sensor 1\", \"reading 7 sensor 2\",\"reading 7 sensor 3\",\"reading 7 sensor 4\",\"reading 7 sensor 5\",\"reading 7 sensor 6\",\"reading 7 sensor 7\", \"reading 7 sensor 8\",\n",
    "\"reading 8 sensor 1\", \"reading 8 sensor 2\",\"reading 8 sensor 3\",\"reading 8 sensor 4\",\"reading 8 sensor 5\",\"reading 8 sensor 6\",\"reading 8 sensor 7\", \"reading 8 sensor 8\",\n",
    "\"result\"]\n",
    "dataset_ok = load_dataset('../Data/3.csv')\n",
    "dataset_ok.columns = [\n",
    "\"reading 1 sensor 1\", \"reading 1 sensor 2\",\"reading 1 sensor 3\",\"reading 1 sensor 4\",\"reading 1 sensor 5\",\"reading 1 sensor 6\",\"reading 1 sensor 7\", \"reading 1 sensor 8\",\n",
    "\"reading 2 sensor 1\", \"reading 2 sensor 2\",\"reading 2 sensor 3\",\"reading 2 sensor 4\",\"reading 2 sensor 5\",\"reading 2 sensor 6\",\"reading 2 sensor 7\", \"reading 2 sensor 8\",\n",
    "\"reading 3 sensor 1\", \"reading 3 sensor 2\",\"reading 3 sensor 3\",\"reading 3 sensor 4\",\"reading 3 sensor 5\",\"reading 3 sensor 6\",\"reading 3 sensor 7\", \"reading 3 sensor 8\",\n",
    "\"reading 4 sensor 1\", \"reading 4 sensor 2\",\"reading 4 sensor 3\",\"reading 4 sensor 4\",\"reading 4 sensor 5\",\"reading 4 sensor 6\",\"reading 4 sensor 7\", \"reading 4 sensor 8\",\n",
    "\"reading 5 sensor 1\", \"reading 5 sensor 2\",\"reading 5 sensor 3\",\"reading 5 sensor 4\",\"reading 5 sensor 5\",\"reading 5 sensor 6\",\"reading 5 sensor 7\", \"reading 5 sensor 8\",\n",
    "\"reading 6 sensor 1\", \"reading 6 sensor 2\",\"reading 6 sensor 3\",\"reading 6 sensor 4\",\"reading 6 sensor 5\",\"reading 6 sensor 6\",\"reading 6 sensor 7\", \"reading 6 sensor 8\",\n",
    "\"reading 7 sensor 1\", \"reading 7 sensor 2\",\"reading 7 sensor 3\",\"reading 7 sensor 4\",\"reading 7 sensor 5\",\"reading 7 sensor 6\",\"reading 7 sensor 7\", \"reading 7 sensor 8\",\n",
    "\"reading 8 sensor 1\", \"reading 8 sensor 2\",\"reading 8 sensor 3\",\"reading 8 sensor 4\",\"reading 8 sensor 5\",\"reading 8 sensor 6\",\"reading 8 sensor 7\", \"reading 8 sensor 8\",\n",
    "\"result\"]"
   ]
  },
  {
   "cell_type": "code",
   "execution_count": 5,
   "metadata": {},
   "outputs": [],
   "source": [
    "#Junto els dataset per poder fer la classificació amb tots els resultats\n",
    "#Si s'entrena només amb un tipus pot provocar overfitting"
   ]
  },
  {
   "cell_type": "code",
   "execution_count": 6,
   "metadata": {},
   "outputs": [],
   "source": [
    "dataset = dataset_rock.append(dataset_scissors)\n",
    "dataset = dataset.append(dataset_paper)\n",
    "dataset = dataset.append(dataset_ok)"
   ]
  },
  {
   "cell_type": "code",
   "execution_count": 7,
   "metadata": {},
   "outputs": [],
   "source": [
    "#Miro la dimensionalitat de les dades, si hi ha valors nulls"
   ]
  },
  {
   "cell_type": "code",
   "execution_count": 8,
   "metadata": {},
   "outputs": [
    {
     "name": "stdout",
     "output_type": "stream",
     "text": [
      "Dimensionalitat de la BBDD de Roca: (2909, 65)\n",
      "Dimensionalitat de la BBDD de Tissores: (2902, 65)\n",
      "Dimensionalitat de la BBDD de Paper: (2942, 65)\n",
      "Dimensionalitat de la BBDD de Ok: (2921, 65)\n",
      "Dimensionalitat de la BBDD: (11674, 65)\n"
     ]
    }
   ],
   "source": [
    "print(\"Dimensionalitat de la BBDD de Roca:\", dataset_rock.shape)\n",
    "print(\"Dimensionalitat de la BBDD de Tissores:\", dataset_scissors.shape)\n",
    "print(\"Dimensionalitat de la BBDD de Paper:\", dataset_paper.shape)\n",
    "print(\"Dimensionalitat de la BBDD de Ok:\", dataset_ok.shape)\n",
    "print(\"Dimensionalitat de la BBDD:\", dataset.shape)"
   ]
  },
  {
   "cell_type": "code",
   "execution_count": 9,
   "metadata": {},
   "outputs": [
    {
     "name": "stdout",
     "output_type": "stream",
     "text": [
      "False\n",
      "0\n"
     ]
    }
   ],
   "source": [
    "print(dataset.isnull().values.any())\n",
    "print(dataset.isnull().sum().sum())"
   ]
  },
  {
   "cell_type": "code",
   "execution_count": 10,
   "metadata": {},
   "outputs": [],
   "source": [
    "#No tenim valors nulls\n",
    "#Miro la mitjana i la desviació estàndard"
   ]
  },
  {
   "cell_type": "code",
   "execution_count": 11,
   "metadata": {},
   "outputs": [
    {
     "name": "stdout",
     "output_type": "stream",
     "text": [
      "-0.6492652969781632 17.2376411975259\n"
     ]
    }
   ],
   "source": [
    "data_mean, data_std = mean(dataset.values), std(dataset.values)\n",
    "print(data_mean, data_std)"
   ]
  },
  {
   "cell_type": "code",
   "execution_count": 12,
   "metadata": {},
   "outputs": [],
   "source": [
    "#Al tenir una desviació estandard tan baixa, no crec que calgui buscar i borrar outliers\n",
    "#Realment aquests poden ajudar a diferenciar els resultats\n",
    "#Probem a classificar amb LogisticRegresison"
   ]
  },
  {
   "cell_type": "code",
   "execution_count": 13,
   "metadata": {},
   "outputs": [
    {
     "name": "stdout",
     "output_type": "stream",
     "text": [
      "[[-47.  -6.  -5. ...  21. 111.  15.]\n",
      " [-19.  -8.  -8. ...  21. 114.  48.]\n",
      " [  2.   3.   0. ...  39. 119.  43.]\n",
      " ...\n",
      " [ -1.  -3.  -1. ... -29.  -5.   0.]\n",
      " [  1.   4.   4. ... -90.   3.   5.]\n",
      " [ -2.   4.   2. ...  64.  11.   5.]]\n",
      "[0. 0. 0. ... 3. 3. 3.]\n",
      "---------- KERNEL: linear  ---------- \n",
      "Correct classification Logistic  30.0 % of the data:  0.3354136074400392\n",
      "Ha tardat:  0.6459975242614746  segons\n",
      "Correct classification Logistic  50.0 % of the data:  0.35908857289703616\n",
      "Ha tardat:  1.5819988250732422  segons\n",
      "Correct classification Logistic  70.0 % of the data:  0.3439908649728804\n",
      "Ha tardat:  3.4260027408599854  segons\n",
      "Correct classification Logistic  80.0 % of the data:  0.34518201284796574\n",
      "Ha tardat:  5.5699992179870605  segons\n",
      "---------- KERNEL: poly  ---------- \n",
      "Correct classification Logistic  30.0 % of the data:  0.3387175721977484\n",
      "Ha tardat:  0.4750022888183594  segons\n",
      "Correct classification Logistic  50.0 % of the data:  0.33681685797498717\n",
      "Ha tardat:  1.4640040397644043  segons\n",
      "Correct classification Logistic  70.0 % of the data:  0.3562660576648587\n",
      "Ha tardat:  3.522000551223755  segons\n",
      "Correct classification Logistic  80.0 % of the data:  0.3438972162740899\n",
      "Ha tardat:  6.044002294540405  segons\n",
      "---------- KERNEL: rbf  ---------- \n",
      "Correct classification Logistic  30.0 % of the data:  0.3465491923641703\n",
      "Ha tardat:  0.49899864196777344  segons\n",
      "Correct classification Logistic  50.0 % of the data:  0.3484666780880589\n",
      "Ha tardat:  1.4370009899139404  segons\n",
      "Correct classification Logistic  70.0 % of the data:  0.33913788181558663\n",
      "Ha tardat:  3.4479987621307373  segons\n",
      "Correct classification Logistic  80.0 % of the data:  0.3468950749464668\n",
      "Ha tardat:  6.3759987354278564  segons\n",
      "---------- KERNEL: sigmoid  ---------- \n",
      "Correct classification Logistic  30.0 % of the data:  0.33835046500244736\n",
      "Ha tardat:  0.6570003032684326  segons\n",
      "Correct classification Logistic  50.0 % of the data:  0.3366455370909714\n",
      "Ha tardat:  1.679002046585083  segons\n",
      "Correct classification Logistic  70.0 % of the data:  0.3414216385954896\n",
      "Ha tardat:  3.6190037727355957  segons\n",
      "Correct classification Logistic  80.0 % of the data:  0.3404710920770878\n",
      "Ha tardat:  6.312001705169678  segons\n"
     ]
    }
   ],
   "source": [
    "data = dataset.values\n",
    "\n",
    "x = data[:, :64]\n",
    "y = data[:, 64]\n",
    "\n",
    "print(x)\n",
    "print(y)\n",
    "\n",
    "particions = [0.3,0.5, 0.7, 0.8]\n",
    "kernel_lst = ['linear', 'poly', 'rbf', 'sigmoid']\n",
    "\n",
    "for kern in kernel_lst:\n",
    "    inici = time.time()\n",
    "    print(\"---------- KERNEL:\", kern, \" ---------- \")\n",
    "    for part in particions:\n",
    "        x_t, x_v, y_t, y_v = train_test_split(x, y, train_size=part)\n",
    "        \n",
    "        logireg = LogisticRegression(C=1.0, fit_intercept=True, penalty='l2', max_iter=1000)\n",
    "        logireg.fit(x_t, y_t)\n",
    "\n",
    "        print(\"Correct classification Logistic \", part * 100, \"% of the data: \", logireg.score(x_v, y_v))\n",
    "        fi = time.time()\n",
    "        total = fi - inici\n",
    "        print(\"Ha tardat: \", total, \" segons\")\n",
    "plt.show()\n"
   ]
  },
  {
   "cell_type": "code",
   "execution_count": 14,
   "metadata": {},
   "outputs": [],
   "source": [
    "#Decision tree"
   ]
  },
  {
   "cell_type": "code",
   "execution_count": 15,
   "metadata": {},
   "outputs": [
    {
     "name": "stdout",
     "output_type": "stream",
     "text": [
      "Decision tree\n",
      "Mean accuracy with  30.0 % of the data:  0.7676\n",
      "Ha tardat:  4.878997564315796  segons\n",
      "Mean accuracy with  50.0 % of the data:  0.7581\n",
      "Ha tardat:  3.4160566329956055  segons\n",
      "Mean accuracy with  70.0 % of the data:  0.7579\n",
      "Ha tardat:  2.1640055179595947  segons\n",
      "Mean accuracy with  80.0 % of the data:  0.7276\n",
      "Ha tardat:  1.6040012836456299  segons\n"
     ]
    },
    {
     "data": {
      "image/png": "[encoded data removed]",
      "text/plain": [
       "<Figure size 432x288 with 1 Axes>"
      ]
     },
     "metadata": {
      "needs_background": "light"
     },
     "output_type": "display_data"
    }
   ],
   "source": [
    "print(\"Decision tree\")\n",
    "for part in particions:\n",
    "    inici = time.time()\n",
    "    x_t, x_v, y_t, y_v = train_test_split(x, y, train_size=part)\n",
    "    clf = DecisionTreeClassifier(random_state=0)\n",
    "    clf.fit(x_t, y_t)\n",
    "    cv = cross_val_score(clf, x_v, y_v, cv=10)\n",
    "    total = 0\n",
    "    for v in cv:\n",
    "        total += v\n",
    "    print(\"Mean accuracy with \", part * 100, \"% of the data: \", round(total/10, 4))\n",
    "    fi = time.time()\n",
    "    total = fi - inici\n",
    "    print(\"Ha tardat: \", total, \" segons\")\n",
    "    plot_tree(clf)\n",
    "probs = clf.predict_proba(x_v)"
   ]
  },
  {
   "cell_type": "code",
   "execution_count": 16,
   "metadata": {},
   "outputs": [],
   "source": [
    "#Mirem Precision-Recall and ROC curve"
   ]
  },
  {
   "cell_type": "code",
   "execution_count": 17,
   "metadata": {},
   "outputs": [
    {
     "data": {
      "text/plain": [
       "<matplotlib.legend.Legend at 0x13ac331f748>"
      ]
     },
     "execution_count": 17,
     "metadata": {},
     "output_type": "execute_result"
    },
    {
     "data": {
      "image/png": "[encoded data removed]",
      "text/plain": [
       "<Figure size 432x288 with 1 Axes>"
      ]
     },
     "metadata": {
      "needs_background": "light"
     },
     "output_type": "display_data"
    },
    {
     "data": {
      "image/png": "[encoded data removed]",
      "text/plain": [
       "<Figure size 432x288 with 1 Axes>"
      ]
     },
     "metadata": {
      "needs_background": "light"
     },
     "output_type": "display_data"
    }
   ],
   "source": [
    "total_classes = 4\n",
    "precision = {}\n",
    "recall = {}\n",
    "average_precision = {}\n",
    "plt.figure()\n",
    "for i in range(total_classes):\n",
    "    precision[i], recall[i], _ = precision_recall_curve(y_v == i, probs[:, i])\n",
    "    average_precision[i] = average_precision_score(y_v == i, probs[:, i])\n",
    "\n",
    "    plt.plot(recall[i], precision[i],\n",
    "             label='Precision-recall curve of class {0} (area = {1:0.2f})'\n",
    "                   ''.format(i, average_precision[i]))\n",
    "    plt.xlabel('Recall')\n",
    "    plt.ylabel('Precision')\n",
    "    plt.legend(loc=\"upper right\")\n",
    "\n",
    "fpr = {}\n",
    "tpr = {}\n",
    "roc_auc = {}\n",
    "for i in range(total_classes):\n",
    "    fpr[i], tpr[i], _ = roc_curve(y_v == i, probs[:, i])\n",
    "    roc_auc[i] = auc(fpr[i], tpr[i])\n",
    "\n",
    "plt.figure()\n",
    "for i in range(total_classes):\n",
    "    plt.plot(fpr[i], tpr[i], label='ROC curve of class {0} (area = {1:0.2f})' ''.format(i, roc_auc[i]))\n",
    "plt.legend()"
   ]
  },
  {
   "cell_type": "code",
   "execution_count": 18,
   "metadata": {},
   "outputs": [],
   "source": [
    "#Crec que classifica millor la classe de roca ja que és el gest més diferent\n",
    "#Per això també crec que li costa més tissora, ja que és el gest més semblant a la resta.\n",
    "#KNN"
   ]
  },
  {
   "cell_type": "code",
   "execution_count": 19,
   "metadata": {},
   "outputs": [
    {
     "name": "stdout",
     "output_type": "stream",
     "text": [
      "KNN\n",
      "---------- num neighbors =  1  ---------- \n",
      "Accuracy:1.0\n",
      "Precision:1.0\n",
      "Recall:1.0\n",
      "Ha tardat:  0.7470030784606934  segons\n",
      "---------- num neighbors =  2  ---------- \n",
      "Accuracy:0.8420022029127402\n",
      "Precision:0.8420022029127402\n",
      "Recall:0.8420022029127402\n",
      "Ha tardat:  12.482216596603394  segons\n",
      "---------- num neighbors =  3  ---------- \n",
      "Accuracy:0.7881532248194836\n",
      "Precision:0.7881532248194836\n",
      "Recall:0.7881532248194836\n",
      "Ha tardat:  10.377926111221313  segons\n",
      "---------- num neighbors =  4  ---------- \n",
      "Accuracy:0.7795863419410108\n",
      "Precision:0.7795863419410108\n",
      "Recall:0.7795863419410108\n",
      "Ha tardat:  10.583099603652954  segons\n",
      "---------- num neighbors =  5  ---------- \n",
      "Accuracy:0.7607391996083711\n",
      "Precision:0.7607391996083711\n",
      "Recall:0.7607391996083711\n",
      "Ha tardat:  10.453075170516968  segons\n",
      "---------- num neighbors =  6  ---------- \n",
      "Accuracy:0.7433606657691837\n",
      "Precision:0.7433606657691837\n",
      "Recall:0.7433606657691837\n",
      "Ha tardat:  10.61692762374878  segons\n",
      "---------- num neighbors =  7  ---------- \n",
      "Accuracy:0.7380981520009791\n",
      "Precision:0.7380981520009791\n",
      "Recall:0.7380981520009791\n",
      "Ha tardat:  10.647268533706665  segons\n",
      "---------- num neighbors =  8  ---------- \n",
      "Accuracy:0.7318565659038061\n",
      "Precision:0.7318565659038061\n",
      "Recall:0.7318565659038061\n",
      "Ha tardat:  10.483059883117676  segons\n",
      "---------- num neighbors =  9  ---------- \n",
      "Accuracy:0.7213315383673969\n",
      "Precision:0.7213315383673969\n",
      "Recall:0.7213315383673969\n",
      "Ha tardat:  10.615012884140015  segons\n"
     ]
    }
   ],
   "source": [
    "print(\"KNN\")\n",
    "\n",
    "x_t, x_v, y_t, y_v = train_test_split(x, y, train_size=0.7)\n",
    "\n",
    "neigh_array = range(1, 10)\n",
    "\n",
    "for n in neigh_array:\n",
    "    inici = time.time()\n",
    "    print(\"---------- num neighbors = \", n, \" ---------- \");\n",
    "\n",
    "    model = KNeighborsClassifier(n_neighbors=n)\n",
    "\n",
    "    model.fit(x_t,y_t)\n",
    "\n",
    "    predictions = model.predict(x_t)\n",
    "\n",
    "    acc = accuracy_score(y_t, predictions)\n",
    "    prec = precision_score(y_t, predictions, average='micro')\n",
    "    rec = recall_score(y_t, predictions, average='micro')\n",
    "    conf_mat = confusion_matrix(y_t, predictions).T\n",
    "    fi = time.time()\n",
    "    total = fi - inici\n",
    "    print(f'Accuracy:{acc}')\n",
    "    print(f'Precision:{prec}')\n",
    "    print(f'Recall:{rec}')\n",
    "    print(\"Ha tardat: \", total, \" segons\")"
   ]
  },
  {
   "cell_type": "code",
   "execution_count": 20,
   "metadata": {},
   "outputs": [],
   "source": [
    "#Resultats molt semblants o pijtors al decission-tree, ens quedem decission-tree com a millor model"
   ]
  },
  {
   "cell_type": "code",
   "execution_count": null,
   "metadata": {},
   "outputs": [],
   "source": []
  },
  {
   "cell_type": "code",
   "execution_count": null,
   "metadata": {},
   "outputs": [],
   "source": []
  }
 ],
 "metadata": {
  "kernelspec": {
   "display_name": "Python 3",
   "language": "python",
   "name": "python3"
  },
  "language_info": {
   "codemirror_mode": {
    "name": "ipython",
    "version": 3
   },
   "file_extension": ".py",
   "mimetype": "text/x-python",
   "name": "python",
   "nbconvert_exporter": "python",
   "pygments_lexer": "ipython3",
   "version": "3.7.4"
  }
 },
 "nbformat": 4,
 "nbformat_minor": 2
}
